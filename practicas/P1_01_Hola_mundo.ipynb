{
 "cells": [
  {
   "cell_type": "markdown",
   "id": "6c03e1fb",
   "metadata": {},
   "source": [
    "# Práctica 1-02: Hola Mundo Este es mi primer notebook en VS Code para la materia de Control Clásico.\n"
   ]
  },
  {
   "cell_type": "code",
   "execution_count": 2,
   "id": "b678a7f7",
   "metadata": {},
   "outputs": [
    {
     "name": "stdout",
     "output_type": "stream",
     "text": [
      "Hola mundo.\n"
     ]
    }
   ],
   "source": [
    "print(\"Hola mundo.\")"
   ]
  }
 ],
 "metadata": {
  "kernelspec": {
   "display_name": ".venv",
   "language": "python",
   "name": "python3"
  },
  "language_info": {
   "codemirror_mode": {
    "name": "ipython",
    "version": 3
   },
   "file_extension": ".py",
   "mimetype": "text/x-python",
   "name": "python",
   "nbconvert_exporter": "python",
   "pygments_lexer": "ipython3",
   "version": "3.13.7"
  }
 },
 "nbformat": 4,
 "nbformat_minor": 5
}
